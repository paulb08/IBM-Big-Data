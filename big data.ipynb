{
 "cells": [
  {
   "cell_type": "code",
   "execution_count": 1,
   "metadata": {},
   "outputs": [],
   "source": [
    "import pyspark"
   ]
  },
  {
   "cell_type": "code",
   "execution_count": 2,
   "metadata": {},
   "outputs": [],
   "source": [
    "from pyspark.sql import SparkSession"
   ]
  },
  {
   "cell_type": "code",
   "execution_count": 3,
   "metadata": {},
   "outputs": [],
   "source": [
    "spark = SparkSession.builder \\\n",
    "    .appName(\"Erasmus Big Data\") \\\n",
    "    .getOrCreate()"
   ]
  },
  {
   "cell_type": "code",
   "execution_count": 4,
   "metadata": {},
   "outputs": [],
   "source": [
    "df = spark.read.csv(\"C:\\\\Users\\\\paul\\\\Downloads\\\\Erasmus.csv\", header=True, inferSchema=True)"
   ]
  },
  {
   "cell_type": "code",
   "execution_count": 5,
   "metadata": {},
   "outputs": [
    {
     "name": "stdout",
     "output_type": "stream",
     "text": [
      "+--------------------+-----------------+---------------+--------------------+----------------------+\n",
      "|   Project Reference|Mobility Duration|Participant Age|Sending Country Code|Receiving Country Code|\n",
      "+--------------------+-----------------+---------------+--------------------+----------------------+\n",
      "|2014-1-BE04-KA347...|                2|             18|                  FR|                    BE|\n",
      "|2014-1-BE04-KA347...|                3|             22|                  FR|                    BE|\n",
      "|2014-1-BE04-KA347...|                3|             27|                  FR|                    BE|\n",
      "|2014-1-BE04-KA347...|                3|             27|                  FR|                    BE|\n",
      "|2014-1-BE04-KA347...|                3|             25|                  FR|                    BE|\n",
      "|2014-1-BG01-KA347...|                4|             27|                  RS|                    BG|\n",
      "|2014-1-EL02-KA347...|                2|             30|                  BA|                    EL|\n",
      "|2014-1-EL02-KA347...|                3|             23|                  AT|                    EL|\n",
      "|2014-1-EL02-KA347...|                3|             21|                  BG|                    EL|\n",
      "|2014-1-EL02-KA347...|                3|             27|                  BG|                    EL|\n",
      "|2014-1-EL02-KA347...|                3|             19|                  CZ|                    EL|\n",
      "|2014-1-EL02-KA347...|                3|             22|                  ES|                    EL|\n",
      "|2014-1-EL02-KA347...|                3|             27|                  UK|                    EL|\n",
      "|2014-1-EL02-KA347...|                3|             23|                  IT|                    EL|\n",
      "|2014-1-EL02-KA347...|                3|             24|                  SK|                    EL|\n",
      "|2014-1-EL02-KA347...|                4|             25|                  DE|                    EL|\n",
      "|2014-1-EL02-KA347...|                4|             21|                  DE|                    EL|\n",
      "|2014-1-EL02-KA347...|                4|             23|                  MA|                    EL|\n",
      "|2014-1-EL02-KA347...|                4|             30|                  BG|                    EL|\n",
      "|2014-1-EL02-KA347...|                4|             21|                  NL|                    EL|\n",
      "+--------------------+-----------------+---------------+--------------------+----------------------+\n",
      "only showing top 20 rows\n",
      "\n"
     ]
    }
   ],
   "source": [
    "df.show()"
   ]
  }
 ],
 "metadata": {
  "kernelspec": {
   "display_name": "Python 3",
   "language": "python",
   "name": "python3"
  },
  "language_info": {
   "codemirror_mode": {
    "name": "ipython",
    "version": 3
   },
   "file_extension": ".py",
   "mimetype": "text/x-python",
   "name": "python",
   "nbconvert_exporter": "python",
   "pygments_lexer": "ipython3",
   "version": "3.11.4"
  },
  "orig_nbformat": 4
 },
 "nbformat": 4,
 "nbformat_minor": 2
}
